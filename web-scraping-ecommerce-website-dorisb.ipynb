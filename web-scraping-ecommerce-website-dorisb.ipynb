{
 "cells": [
  {
   "cell_type": "markdown",
   "id": "ddddd09d",
   "metadata": {},
   "source": [
    "# Webscraping with selenium\n",
    "\n",
    "As part of a personal study project, I wanted to retrieve data from product sheets from the sub-category Running > Clothing of the website go-sport\n",
    "\n",
    "Start page for scraping : https://www.go-sport.com/running/vetements/\n",
    "\n",
    "\n",
    "The steps of my study:\n",
    "1. Test the different Selenium functionalities and target the elements to be scrapped in the HTML code of the target page.\n",
    "\n",
    "2. Configure the scraping with Selenium (including the different elements to retrieve).\n",
    "\n",
    "3. Create a function to automate the scrapping of the following elements: breadcrumb + page title + images + prices + product characteristics + reviews (if any). Each element will be stored temporarily in a variable.\n",
    "\n",
    "4. Organize the data in columns / rows (one row per product, one column per variable), then export in csv format.\n",
    "\n",
    "\n",
    "Translated with www.DeepL.com/Translator (free version)"
   ]
  },
  {
   "cell_type": "code",
   "execution_count": 2,
   "id": "f8d4a806",
   "metadata": {},
   "outputs": [
    {
     "name": "stdout",
     "output_type": "stream",
     "text": [
      "Collecting selenium\n",
      "  Downloading selenium-4.4.2-py3-none-any.whl (985 kB)\n",
      "     ------------------------------------- 986.0/986.0 kB 15.7 MB/s eta 0:00:00\n",
      "Collecting trio-websocket~=0.9\n",
      "  Downloading trio_websocket-0.9.2-py3-none-any.whl (16 kB)\n",
      "Requirement already satisfied: urllib3[socks]~=1.26 in c:\\users\\baill\\.venvs\\artefact\\lib\\site-packages (from selenium) (1.26.11)\n",
      "Collecting trio~=0.17\n",
      "  Downloading trio-0.21.0-py3-none-any.whl (358 kB)\n",
      "     ------------------------------------- 359.0/359.0 kB 11.3 MB/s eta 0:00:00\n",
      "Collecting certifi~=2021.10.8\n",
      "  Downloading certifi-2021.10.8-py2.py3-none-any.whl (149 kB)\n",
      "     ---------------------------------------- 149.2/149.2 kB ? eta 0:00:00\n",
      "Collecting sortedcontainers\n",
      "  Downloading sortedcontainers-2.4.0-py2.py3-none-any.whl (29 kB)\n",
      "Requirement already satisfied: cffi>=1.14 in c:\\users\\baill\\.venvs\\artefact\\lib\\site-packages (from trio~=0.17->selenium) (1.15.1)\n",
      "Requirement already satisfied: attrs>=19.2.0 in c:\\users\\baill\\.venvs\\artefact\\lib\\site-packages (from trio~=0.17->selenium) (22.1.0)\n",
      "Requirement already satisfied: idna in c:\\users\\baill\\.venvs\\artefact\\lib\\site-packages (from trio~=0.17->selenium) (3.3)\n",
      "Collecting outcome\n",
      "  Downloading outcome-1.2.0-py2.py3-none-any.whl (9.7 kB)\n",
      "Requirement already satisfied: sniffio in c:\\users\\baill\\.venvs\\artefact\\lib\\site-packages (from trio~=0.17->selenium) (1.2.0)\n",
      "Collecting async-generator>=1.9\n",
      "  Downloading async_generator-1.10-py3-none-any.whl (18 kB)\n",
      "Collecting wsproto>=0.14\n",
      "  Downloading wsproto-1.1.0-py3-none-any.whl (24 kB)\n",
      "Collecting PySocks!=1.5.7,<2.0,>=1.5.6\n",
      "  Downloading PySocks-1.7.1-py3-none-any.whl (16 kB)\n",
      "Requirement already satisfied: pycparser in c:\\users\\baill\\.venvs\\artefact\\lib\\site-packages (from cffi>=1.14->trio~=0.17->selenium) (2.21)\n",
      "Requirement already satisfied: h11<1,>=0.9.0 in c:\\users\\baill\\.venvs\\artefact\\lib\\site-packages (from wsproto>=0.14->trio-websocket~=0.9->selenium) (0.13.0)\n",
      "Installing collected packages: sortedcontainers, certifi, wsproto, PySocks, outcome, async-generator, trio, trio-websocket, selenium\n",
      "  Attempting uninstall: certifi\n",
      "    Found existing installation: certifi 2022.6.15\n",
      "    Uninstalling certifi-2022.6.15:\n",
      "      Successfully uninstalled certifi-2022.6.15\n",
      "Successfully installed PySocks-1.7.1 async-generator-1.10 certifi-2021.10.8 outcome-1.2.0 selenium-4.4.2 sortedcontainers-2.4.0 trio-0.21.0 trio-websocket-0.9.2 wsproto-1.1.0\n"
     ]
    }
   ],
   "source": [
    "#!pip install selenium"
   ]
  },
  {
   "cell_type": "code",
   "execution_count": 3,
   "id": "62c1bfc0",
   "metadata": {},
   "outputs": [],
   "source": [
    "import os\n",
    "import requests\n",
    "from bs4 import BeautifulSoup\n",
    "from selenium import webdriver\n",
    "from selenium.webdriver.firefox.service import Service\n",
    "from selenium.webdriver.firefox.options import Options\n",
    "from selenium.webdriver.common.by import By\n",
    "from datetime import datetime\n",
    "from urllib import parse\n",
    "from os import path\n",
    "import json, pickle"
   ]
  },
  {
   "cell_type": "code",
   "execution_count": 81,
   "id": "98196dac",
   "metadata": {},
   "outputs": [],
   "source": [
    "# Storing the path to the webdriver in a variable to reuse it later\n",
    "DRIVER_PATH = \"/chromedriver.exe\""
   ]
  },
  {
   "cell_type": "code",
   "execution_count": 82,
   "id": "224661dd",
   "metadata": {},
   "outputs": [],
   "source": [
    "#defining the start page\n",
    "BASE_URL = \"https://www.go-sport.com/running/vetements/\""
   ]
  },
  {
   "cell_type": "code",
   "execution_count": 83,
   "id": "cfee6bd0",
   "metadata": {},
   "outputs": [
    {
     "name": "stderr",
     "output_type": "stream",
     "text": [
      "C:\\Users\\baill\\AppData\\Local\\Temp\\ipykernel_42492\\2440440003.py:1: DeprecationWarning: executable_path has been deprecated, please pass in a Service object\n",
      "  driver = webdriver.Chrome(os.getcwd()+DRIVER_PATH)\n"
     ]
    }
   ],
   "source": [
    "#here I initialize the webdriver. This tool will enable me to scrap.\n",
    "driver = webdriver.Chrome(os.getcwd()+DRIVER_PATH)"
   ]
  },
  {
   "cell_type": "markdown",
   "id": "e603fb3b",
   "metadata": {},
   "source": [
    "## config des étapes de nav avec Selenium"
   ]
  },
  {
   "cell_type": "markdown",
   "id": "f95378dc",
   "metadata": {},
   "source": [
    "For your information, there are a lot of different methods offered by Selenium to find elements on a webpage.  Here are some examples:\n",
    "\n",
    "- find_element(By.ID, \"id\")\n",
    "- find_element(By.NAME, \"name\")\n",
    "- find_element(By.XPATH, \"xpath\")\n",
    "- find_element(By.LINK_TEXT, \"link text\")\n",
    "- find_element(By.PARTIAL_LINK_TEXT, \"partial link text\")\n",
    "- find_element(By.TAG_NAME, \"tag name\")\n",
    "- find_element(By.CLASS_NAME, \"class name\")\n",
    "- find_element(By.CSS_SELECTOR, \"css selector\")\n",
    "\n",
    "\n",
    "\n",
    "Check the documentation for more informations. https://selenium-python.readthedocs.io/locating-elements.html#locating-elements"
   ]
  },
  {
   "cell_type": "code",
   "execution_count": 84,
   "id": "6b3d5c41",
   "metadata": {},
   "outputs": [],
   "source": [
    "# Let's now request a specific URL\n",
    "driver.get(BASE_URL)"
   ]
  },
  {
   "cell_type": "code",
   "execution_count": 10,
   "id": "b825b38f",
   "metadata": {},
   "outputs": [
    {
     "data": {
      "text/plain": [
       "('https://www.go-sport.com/running/vetements/',\n",
       " 'Vetements Running - Au meilleur prix - GO Sport')"
      ]
     },
     "execution_count": 10,
     "metadata": {},
     "output_type": "execute_result"
    }
   ],
   "source": [
    "driver.current_url,driver.title #checks the title of the curent page"
   ]
  },
  {
   "cell_type": "code",
   "execution_count": 85,
   "id": "b5982a76",
   "metadata": {},
   "outputs": [
    {
     "data": {
      "text/plain": [
       "[<selenium.webdriver.remote.webelement.WebElement (session=\"bccc1306526a9e8069ee1e17d7dcc050\", element=\"e99224ce-969b-4672-923e-85691898512b\")>,\n",
       " <selenium.webdriver.remote.webelement.WebElement (session=\"bccc1306526a9e8069ee1e17d7dcc050\", element=\"fbf49fa2-2289-4a1b-91e1-8278afdf3fab\")>]"
      ]
     },
     "execution_count": 85,
     "metadata": {},
     "output_type": "execute_result"
    }
   ],
   "source": [
    "# Finding all buttons on the page : there are two\n",
    "button_agree = driver.find_elements(By.CLASS_NAME, \"onetrust-close-btn-handler\")\n",
    "button_agree\n",
    "#https://selenium-python.readthedocs.io/locating-elements.html"
   ]
  },
  {
   "cell_type": "code",
   "execution_count": 86,
   "id": "878205a5",
   "metadata": {},
   "outputs": [],
   "source": [
    "#when navigating this website, the first thing we encounter is the cookie pop up. To be abble to see the page, we first need to interact with the pop up.\n",
    "button_agree[0].click() #here I click on one of the buttons (\"Disagree\" ;-p)"
   ]
  },
  {
   "cell_type": "markdown",
   "id": "fa0cadf9",
   "metadata": {},
   "source": [
    "As we are starting from a category, we will find many products on the page. \n",
    "### reminder:\n",
    "\n",
    "My goal is to scrap the different product sheets on this page.\n",
    "So I'll have to configure my webdriver so that it goes on the different product sheets, that it retrieves and stores all the target elements in variables. It will then have to be able to turn around and go to the next product. \n",
    "To start, we will visit the first page and test the scraping. If the results are conclusive, we will be able to configure a function to repeat these same actions as many times as necessary\n",
    "\n",
    "\n",
    "Translated with www.DeepL.com/Translator (free version)"
   ]
  },
  {
   "cell_type": "code",
   "execution_count": 87,
   "id": "85bec32e",
   "metadata": {
    "scrolled": true
   },
   "outputs": [
    {
     "data": {
      "text/plain": [
       "[<selenium.webdriver.remote.webelement.WebElement (session=\"bccc1306526a9e8069ee1e17d7dcc050\", element=\"f961a016-4380-480c-a0b9-c64e8a5aa6cf\")>,\n",
       " <selenium.webdriver.remote.webelement.WebElement (session=\"bccc1306526a9e8069ee1e17d7dcc050\", element=\"3384f6cd-b925-4dd9-8332-6b02f426bfaf\")>,\n",
       " <selenium.webdriver.remote.webelement.WebElement (session=\"bccc1306526a9e8069ee1e17d7dcc050\", element=\"60fc3614-5704-4cc4-bd2e-0932264d1c4b\")>,\n",
       " <selenium.webdriver.remote.webelement.WebElement (session=\"bccc1306526a9e8069ee1e17d7dcc050\", element=\"0a5c7678-1078-4ed7-8960-1c959700a418\")>,\n",
       " <selenium.webdriver.remote.webelement.WebElement (session=\"bccc1306526a9e8069ee1e17d7dcc050\", element=\"28d05b83-f42e-4697-8bed-552155e81fef\")>,\n",
       " <selenium.webdriver.remote.webelement.WebElement (session=\"bccc1306526a9e8069ee1e17d7dcc050\", element=\"4d5306bf-ce78-4ddc-80e1-9d12074bd9c2\")>,\n",
       " <selenium.webdriver.remote.webelement.WebElement (session=\"bccc1306526a9e8069ee1e17d7dcc050\", element=\"585615dd-4623-42f6-a575-37a51727e398\")>,\n",
       " <selenium.webdriver.remote.webelement.WebElement (session=\"bccc1306526a9e8069ee1e17d7dcc050\", element=\"9ced335c-b7b8-490e-adf4-a3210f550e5e\")>,\n",
       " <selenium.webdriver.remote.webelement.WebElement (session=\"bccc1306526a9e8069ee1e17d7dcc050\", element=\"aee44e82-7a4e-4489-bf84-1fd4d2f6dc8a\")>,\n",
       " <selenium.webdriver.remote.webelement.WebElement (session=\"bccc1306526a9e8069ee1e17d7dcc050\", element=\"981d9547-5087-400a-934e-978f0d6c52dc\")>,\n",
       " <selenium.webdriver.remote.webelement.WebElement (session=\"bccc1306526a9e8069ee1e17d7dcc050\", element=\"f45872e7-1a76-42a1-ac70-42d19678a870\")>,\n",
       " <selenium.webdriver.remote.webelement.WebElement (session=\"bccc1306526a9e8069ee1e17d7dcc050\", element=\"cab634e5-2a51-4e2c-abb8-a5be6da6743f\")>,\n",
       " <selenium.webdriver.remote.webelement.WebElement (session=\"bccc1306526a9e8069ee1e17d7dcc050\", element=\"8ad36be2-e300-4c3d-9d79-c254047dfef8\")>,\n",
       " <selenium.webdriver.remote.webelement.WebElement (session=\"bccc1306526a9e8069ee1e17d7dcc050\", element=\"59980c0a-6441-4723-bbca-470de6f95cc3\")>,\n",
       " <selenium.webdriver.remote.webelement.WebElement (session=\"bccc1306526a9e8069ee1e17d7dcc050\", element=\"8f8f4a62-969a-473c-841c-140dac9c13c4\")>,\n",
       " <selenium.webdriver.remote.webelement.WebElement (session=\"bccc1306526a9e8069ee1e17d7dcc050\", element=\"b1a81670-d25a-4127-9066-64da716b4351\")>,\n",
       " <selenium.webdriver.remote.webelement.WebElement (session=\"bccc1306526a9e8069ee1e17d7dcc050\", element=\"ab4d9d02-225d-4ce0-974e-06565e6f435b\")>,\n",
       " <selenium.webdriver.remote.webelement.WebElement (session=\"bccc1306526a9e8069ee1e17d7dcc050\", element=\"8d3ccacc-57bd-4695-94e5-f07892e6ce43\")>,\n",
       " <selenium.webdriver.remote.webelement.WebElement (session=\"bccc1306526a9e8069ee1e17d7dcc050\", element=\"b756077e-f736-4574-9f80-cb3187e9b4c1\")>,\n",
       " <selenium.webdriver.remote.webelement.WebElement (session=\"bccc1306526a9e8069ee1e17d7dcc050\", element=\"caf68953-db0b-4d2d-9267-ac0ef60bd584\")>,\n",
       " <selenium.webdriver.remote.webelement.WebElement (session=\"bccc1306526a9e8069ee1e17d7dcc050\", element=\"223981f4-0104-47aa-b995-d6a92ebb48f5\")>,\n",
       " <selenium.webdriver.remote.webelement.WebElement (session=\"bccc1306526a9e8069ee1e17d7dcc050\", element=\"32a12cb1-14e4-40c7-806a-291750fe38fc\")>,\n",
       " <selenium.webdriver.remote.webelement.WebElement (session=\"bccc1306526a9e8069ee1e17d7dcc050\", element=\"92587e9b-d543-48c3-9023-52ddff422b33\")>,\n",
       " <selenium.webdriver.remote.webelement.WebElement (session=\"bccc1306526a9e8069ee1e17d7dcc050\", element=\"1cf1fd2d-52ed-4ff0-8c7c-a4c601bc640c\")>]"
      ]
     },
     "execution_count": 87,
     "metadata": {},
     "output_type": "execute_result"
    }
   ],
   "source": [
    "products = driver.find_elements(By.CLASS_NAME, \"pdp-link\")\n",
    "products"
   ]
  },
  {
   "cell_type": "code",
   "execution_count": 14,
   "id": "12589f03",
   "metadata": {},
   "outputs": [
    {
     "data": {
      "text/plain": [
       "24"
      ]
     },
     "execution_count": 14,
     "metadata": {},
     "output_type": "execute_result"
    }
   ],
   "source": [
    "len(products) #there are 24 produccts on the category page. Let's click on the 1st one."
   ]
  },
  {
   "cell_type": "code",
   "execution_count": 62,
   "id": "dcd26bb2",
   "metadata": {},
   "outputs": [],
   "source": [
    "products[0].click() #click on first product"
   ]
  },
  {
   "cell_type": "code",
   "execution_count": null,
   "id": "98220e1f",
   "metadata": {},
   "outputs": [],
   "source": [
    "\n"
   ]
  },
  {
   "cell_type": "markdown",
   "id": "0dd1a4f1",
   "metadata": {},
   "source": [
    "### This will be the test for the first product"
   ]
  },
  {
   "cell_type": "code",
   "execution_count": 74,
   "id": "12824cec",
   "metadata": {},
   "outputs": [
    {
     "data": {
      "text/plain": [
       "<selenium.webdriver.remote.webelement.WebElement (session=\"684099286749213f07b63a8c0b4ffc23\", element=\"00b5455c-a588-4244-9c4c-3950ed4278cb\")>"
      ]
     },
     "execution_count": 74,
     "metadata": {},
     "output_type": "execute_result"
    }
   ],
   "source": [
    "image = driver.find_elements(By.TAG_NAME, 'img')\n",
    "image[7]"
   ]
  },
  {
   "cell_type": "code",
   "execution_count": 78,
   "id": "749906f2",
   "metadata": {},
   "outputs": [],
   "source": [
    "with open(driver.title+'.png', 'wb') as file:\n",
    "    image = driver.find_elements(By.TAG_NAME, 'img')\n",
    "    file.write(image[7].screenshot_as_png)"
   ]
  },
  {
   "cell_type": "code",
   "execution_count": 54,
   "id": "14be9dc4",
   "metadata": {},
   "outputs": [
    {
     "data": {
      "text/plain": [
       "'https://www.go-sport.com/running/vetements/'"
      ]
     },
     "execution_count": 54,
     "metadata": {},
     "output_type": "execute_result"
    }
   ],
   "source": [
    "url =driver.current_url\n",
    "url"
   ]
  },
  {
   "cell_type": "code",
   "execution_count": 19,
   "id": "6cd16de9",
   "metadata": {
    "scrolled": true
   },
   "outputs": [
    {
     "data": {
      "text/plain": [
       "'Vestes\\nRunning\\nLARY 300 SWEAT DOU M'"
      ]
     },
     "execution_count": 19,
     "metadata": {},
     "output_type": "execute_result"
    }
   ],
   "source": [
    "arianne = driver.find_elements(By.CLASS_NAME, \"c-breadcrumb\")\n",
    "arianne[0].text"
   ]
  },
  {
   "cell_type": "code",
   "execution_count": 16,
   "id": "db575c4d",
   "metadata": {},
   "outputs": [
    {
     "data": {
      "text/plain": [
       "'LARY 300 SWEAT DOU M - Au meilleur prix - GO Sport'"
      ]
     },
     "execution_count": 16,
     "metadata": {},
     "output_type": "execute_result"
    }
   ],
   "source": [
    "titles = driver.title\n",
    "titles "
   ]
  },
  {
   "cell_type": "code",
   "execution_count": 17,
   "id": "9cc125c9",
   "metadata": {},
   "outputs": [],
   "source": [
    "#images = driver.find_element(By.TAG_NAME, 'img')\n",
    "#images\n",
    "#https://medium.com/geekculture/scraping-images-using-selenium-f35fab26b122\n",
    "#https://www.youtube.com/watch?v=E9oZyg5Nifk&ab_channel=codepiep      coool"
   ]
  },
  {
   "cell_type": "code",
   "execution_count": 18,
   "id": "2c8183c6",
   "metadata": {},
   "outputs": [
    {
     "data": {
      "text/plain": [
       "'34,99 €'"
      ]
     },
     "execution_count": 18,
     "metadata": {},
     "output_type": "execute_result"
    }
   ],
   "source": [
    "prices = driver.find_elements(By.CLASS_NAME, \"value\")[0]\n",
    "prices.text"
   ]
  },
  {
   "cell_type": "code",
   "execution_count": 19,
   "id": "d00ebb50",
   "metadata": {},
   "outputs": [
    {
     "data": {
      "text/plain": [
       "'S\\nM\\nL\\nXL\\nXXL'"
      ]
     },
     "execution_count": 19,
     "metadata": {},
     "output_type": "execute_result"
    }
   ],
   "source": [
    "sizes = driver.find_elements(By.CLASS_NAME, \"c-variation__attr-wrapper\")[0]\n",
    "sizes.text"
   ]
  },
  {
   "cell_type": "code",
   "execution_count": null,
   "id": "8c4c551b",
   "metadata": {},
   "outputs": [],
   "source": [
    "#model_id = driver.find_element_by_class_name(\"c-table-value\").text\n",
    "#brand\n",
    "#color\n",
    "#genre\n",
    "#composition"
   ]
  },
  {
   "cell_type": "code",
   "execution_count": 39,
   "id": "03228edf",
   "metadata": {},
   "outputs": [
    {
     "data": {
      "text/plain": [
       "'Informations produit\\n Veste de running homme - Athli-Tech\\nCourez par tous les temps grace à cette veste qui vous protègera du froid et du vent.\\nCapuche zippée et cordon de serrage au niveau du cou.\\nInserts aux manches pour mettre vos pousses et vous protéger encore plus. '"
      ]
     },
     "execution_count": 39,
     "metadata": {},
     "output_type": "execute_result"
    }
   ],
   "source": [
    "#test product\n",
    "product_desc = driver.find_elements(By.CLASS_NAME, \"c-product-detail__description-short\")[0]\n",
    "product_desc.text"
   ]
  },
  {
   "cell_type": "code",
   "execution_count": 27,
   "id": "5d85e3a4",
   "metadata": {},
   "outputs": [
    {
     "data": {
      "text/plain": [
       "'000000000001474102'"
      ]
     },
     "execution_count": 27,
     "metadata": {},
     "output_type": "execute_result"
    }
   ],
   "source": [
    "model_id = driver.find_elements(By.CLASS_NAME, \"c-table-value\")[1]\n",
    "model_id.text"
   ]
  },
  {
   "cell_type": "code",
   "execution_count": 29,
   "id": "4bf4b1eb",
   "metadata": {},
   "outputs": [
    {
     "data": {
      "text/plain": [
       "'ATHLI-TECH'"
      ]
     },
     "execution_count": 29,
     "metadata": {},
     "output_type": "execute_result"
    }
   ],
   "source": [
    "brand = driver.find_elements(By.CLASS_NAME, \"c-table-value\")[2]\n",
    "brand.text"
   ]
  },
  {
   "cell_type": "code",
   "execution_count": 30,
   "id": "7318c7b4",
   "metadata": {},
   "outputs": [
    {
     "data": {
      "text/plain": [
       "'MARRON'"
      ]
     },
     "execution_count": 30,
     "metadata": {},
     "output_type": "execute_result"
    }
   ],
   "source": [
    "color = driver.find_elements(By.CLASS_NAME, \"c-table-value\")[3]\n",
    "color.text"
   ]
  },
  {
   "cell_type": "code",
   "execution_count": 31,
   "id": "021f6a49",
   "metadata": {},
   "outputs": [
    {
     "data": {
      "text/plain": [
       "'homme'"
      ]
     },
     "execution_count": 31,
     "metadata": {},
     "output_type": "execute_result"
    }
   ],
   "source": [
    "genre = driver.find_elements(By.CLASS_NAME, \"c-table-value\")[4]\n",
    "genre.text"
   ]
  },
  {
   "cell_type": "code",
   "execution_count": 33,
   "id": "5c9f226d",
   "metadata": {},
   "outputs": [
    {
     "data": {
      "text/plain": [
       "'100% polyester'"
      ]
     },
     "execution_count": 33,
     "metadata": {},
     "output_type": "execute_result"
    }
   ],
   "source": [
    "composition = driver.find_elements(By.CLASS_NAME, \"c-table-value\")[5]\n",
    "composition.text"
   ]
  },
  {
   "cell_type": "code",
   "execution_count": 35,
   "id": "6166a348",
   "metadata": {},
   "outputs": [
    {
     "data": {
      "text/plain": [
       "'Running'"
      ]
     },
     "execution_count": 35,
     "metadata": {},
     "output_type": "execute_result"
    }
   ],
   "source": [
    "category = driver.find_elements(By.CLASS_NAME, \"c-table-value\")[6]\n",
    "category.text"
   ]
  },
  {
   "cell_type": "code",
   "execution_count": 83,
   "id": "dea6a4bd",
   "metadata": {},
   "outputs": [
    {
     "data": {
      "text/plain": [
       "\"Aucun avis n'a encore été laissé sur ce produit.\""
      ]
     },
     "execution_count": 83,
     "metadata": {},
     "output_type": "execute_result"
    }
   ],
   "source": [
    "reviews = driver.find_elements(By.CLASS_NAME, \"c-toggler__content\")[1]\n",
    "reviews.text"
   ]
  },
  {
   "cell_type": "code",
   "execution_count": 122,
   "id": "b8cc93b7",
   "metadata": {},
   "outputs": [],
   "source": [
    "# Now back to the previous page\n",
    "driver.back()"
   ]
  },
  {
   "cell_type": "code",
   "execution_count": 115,
   "id": "07c86c0c",
   "metadata": {},
   "outputs": [],
   "source": [
    " driver.close()"
   ]
  },
  {
   "cell_type": "markdown",
   "id": "2c171fad",
   "metadata": {},
   "source": [
    "## Config fonction de scrap "
   ]
  },
  {
   "cell_type": "code",
   "execution_count": 90,
   "id": "1669fe61",
   "metadata": {},
   "outputs": [
    {
     "name": "stdout",
     "output_type": "stream",
     "text": [
      "Checking product n°0 at https://www.go-sport.com/homme/vetements/vestes-et-parkas/vestes/running/veste-running-homme-athli-tech-lary-300-sweat-dou-m-gs5410601.html\n",
      "Waiting 4 seconds.\n",
      "Checking product n°1 at https://www.go-sport.com/running/athletisme/vetements/legging-running-femme-nike-nike-icon-clash-fast-gs6315808.html\n",
      "Waiting 2 seconds.\n",
      "Checking product n°2 at https://www.go-sport.com/femme/vetements/tee-shirts/tee-shirts-manches-longues/running/tee-shirt-ml-running-femme-athli-tech-mary-200-gs10475779.html\n",
      "Waiting 5 seconds.\n",
      "Checking product n°3 at https://www.go-sport.com/running/athletisme/vetements/collant-multisport-femme-athli-tech-pia-300-gs10475789.html\n",
      "Waiting 4 seconds.\n",
      "Checking product n°4 at https://www.go-sport.com/homme/vetements/tee-shirts/marques/nike-/top-running-homme-nike-miler-ss-gs10519802.html\n",
      "Waiting 3 seconds.\n",
      "Checking product n°5 at https://www.go-sport.com/femme/vetements/brassieres/maintien-fort/brassiere-multisport-femme-nike-indy--v-neck-gs6709260.html\n",
      "Waiting 4 seconds.\n"
     ]
    },
    {
     "ename": "ElementNotInteractableException",
     "evalue": "Message: element not interactable\n  (Session info: chrome=104.0.5112.102)\nStacktrace:\nBacktrace:\n\tOrdinal0 [0x011578B3+2193587]\n\tOrdinal0 [0x010F0681+1771137]\n\tOrdinal0 [0x01004070+802928]\n\tOrdinal0 [0x01033533+996659]\n\tOrdinal0 [0x01029223+954915]\n\tOrdinal0 [0x0104D7AC+1103788]\n\tOrdinal0 [0x01028C04+953348]\n\tOrdinal0 [0x0104D9C4+1104324]\n\tOrdinal0 [0x0105DAE2+1170146]\n\tOrdinal0 [0x0104D5C6+1103302]\n\tOrdinal0 [0x010277E0+948192]\n\tOrdinal0 [0x010286E6+952038]\n\tGetHandleVerifier [0x01400CB2+2738370]\n\tGetHandleVerifier [0x013F21B8+2678216]\n\tGetHandleVerifier [0x011E17AA+512954]\n\tGetHandleVerifier [0x011E0856+509030]\n\tOrdinal0 [0x010F743B+1799227]\n\tOrdinal0 [0x010FBB68+1817448]\n\tOrdinal0 [0x010FBC55+1817685]\n\tOrdinal0 [0x01105230+1856048]\n\tBaseThreadInitThunk [0x77316739+25]\n\tRtlGetFullPathName_UEx [0x77B990AF+1215]\n\tRtlGetFullPathName_UEx [0x77B9907D+1165]\n",
     "output_type": "error",
     "traceback": [
      "\u001b[1;31m---------------------------------------------------------------------------\u001b[0m",
      "\u001b[1;31mElementNotInteractableException\u001b[0m           Traceback (most recent call last)",
      "Input \u001b[1;32mIn [90]\u001b[0m, in \u001b[0;36m<cell line: 18>\u001b[1;34m()\u001b[0m\n\u001b[0;32m     18\u001b[0m \u001b[38;5;28;01mfor\u001b[39;00m i \u001b[38;5;129;01min\u001b[39;00m \u001b[38;5;28mrange\u001b[39m(\u001b[38;5;28mlen\u001b[39m(products)):\n\u001b[0;32m     20\u001b[0m     products \u001b[38;5;241m=\u001b[39m driver\u001b[38;5;241m.\u001b[39mfind_elements(By\u001b[38;5;241m.\u001b[39mCLASS_NAME, \u001b[38;5;124m\"\u001b[39m\u001b[38;5;124mpdp-link\u001b[39m\u001b[38;5;124m\"\u001b[39m)\n\u001b[1;32m---> 21\u001b[0m     \u001b[43mproducts\u001b[49m\u001b[43m[\u001b[49m\u001b[43mi\u001b[49m\u001b[43m]\u001b[49m\u001b[38;5;241;43m.\u001b[39;49m\u001b[43mclick\u001b[49m\u001b[43m(\u001b[49m\u001b[43m)\u001b[49m\n\u001b[0;32m     23\u001b[0m     \u001b[38;5;28mprint\u001b[39m(\u001b[38;5;124mf\u001b[39m\u001b[38;5;124m\"\u001b[39m\u001b[38;5;124mChecking product n°\u001b[39m\u001b[38;5;132;01m{\u001b[39;00mi\u001b[38;5;132;01m}\u001b[39;00m\u001b[38;5;124m at \u001b[39m\u001b[38;5;132;01m{\u001b[39;00mdriver\u001b[38;5;241m.\u001b[39mcurrent_url\u001b[38;5;132;01m}\u001b[39;00m\u001b[38;5;124m\"\u001b[39m)\n\u001b[0;32m     25\u001b[0m     time\u001b[38;5;241m.\u001b[39msleep(\u001b[38;5;241m1\u001b[39m)\n",
      "File \u001b[1;32m~\\.venvs\\artefact\\lib\\site-packages\\selenium\\webdriver\\remote\\webelement.py:88\u001b[0m, in \u001b[0;36mWebElement.click\u001b[1;34m(self)\u001b[0m\n\u001b[0;32m     86\u001b[0m \u001b[38;5;28;01mdef\u001b[39;00m \u001b[38;5;21mclick\u001b[39m(\u001b[38;5;28mself\u001b[39m) \u001b[38;5;241m-\u001b[39m\u001b[38;5;241m>\u001b[39m \u001b[38;5;28;01mNone\u001b[39;00m:\n\u001b[0;32m     87\u001b[0m     \u001b[38;5;124;03m\"\"\"Clicks the element.\"\"\"\u001b[39;00m\n\u001b[1;32m---> 88\u001b[0m     \u001b[38;5;28;43mself\u001b[39;49m\u001b[38;5;241;43m.\u001b[39;49m\u001b[43m_execute\u001b[49m\u001b[43m(\u001b[49m\u001b[43mCommand\u001b[49m\u001b[38;5;241;43m.\u001b[39;49m\u001b[43mCLICK_ELEMENT\u001b[49m\u001b[43m)\u001b[49m\n",
      "File \u001b[1;32m~\\.venvs\\artefact\\lib\\site-packages\\selenium\\webdriver\\remote\\webelement.py:396\u001b[0m, in \u001b[0;36mWebElement._execute\u001b[1;34m(self, command, params)\u001b[0m\n\u001b[0;32m    394\u001b[0m     params \u001b[38;5;241m=\u001b[39m {}\n\u001b[0;32m    395\u001b[0m params[\u001b[38;5;124m'\u001b[39m\u001b[38;5;124mid\u001b[39m\u001b[38;5;124m'\u001b[39m] \u001b[38;5;241m=\u001b[39m \u001b[38;5;28mself\u001b[39m\u001b[38;5;241m.\u001b[39m_id\n\u001b[1;32m--> 396\u001b[0m \u001b[38;5;28;01mreturn\u001b[39;00m \u001b[38;5;28;43mself\u001b[39;49m\u001b[38;5;241;43m.\u001b[39;49m\u001b[43m_parent\u001b[49m\u001b[38;5;241;43m.\u001b[39;49m\u001b[43mexecute\u001b[49m\u001b[43m(\u001b[49m\u001b[43mcommand\u001b[49m\u001b[43m,\u001b[49m\u001b[43m \u001b[49m\u001b[43mparams\u001b[49m\u001b[43m)\u001b[49m\n",
      "File \u001b[1;32m~\\.venvs\\artefact\\lib\\site-packages\\selenium\\webdriver\\remote\\webdriver.py:428\u001b[0m, in \u001b[0;36mWebDriver.execute\u001b[1;34m(self, driver_command, params)\u001b[0m\n\u001b[0;32m    426\u001b[0m response \u001b[38;5;241m=\u001b[39m \u001b[38;5;28mself\u001b[39m\u001b[38;5;241m.\u001b[39mcommand_executor\u001b[38;5;241m.\u001b[39mexecute(driver_command, params)\n\u001b[0;32m    427\u001b[0m \u001b[38;5;28;01mif\u001b[39;00m response:\n\u001b[1;32m--> 428\u001b[0m     \u001b[38;5;28;43mself\u001b[39;49m\u001b[38;5;241;43m.\u001b[39;49m\u001b[43merror_handler\u001b[49m\u001b[38;5;241;43m.\u001b[39;49m\u001b[43mcheck_response\u001b[49m\u001b[43m(\u001b[49m\u001b[43mresponse\u001b[49m\u001b[43m)\u001b[49m\n\u001b[0;32m    429\u001b[0m     response[\u001b[38;5;124m'\u001b[39m\u001b[38;5;124mvalue\u001b[39m\u001b[38;5;124m'\u001b[39m] \u001b[38;5;241m=\u001b[39m \u001b[38;5;28mself\u001b[39m\u001b[38;5;241m.\u001b[39m_unwrap_value(\n\u001b[0;32m    430\u001b[0m         response\u001b[38;5;241m.\u001b[39mget(\u001b[38;5;124m'\u001b[39m\u001b[38;5;124mvalue\u001b[39m\u001b[38;5;124m'\u001b[39m, \u001b[38;5;28;01mNone\u001b[39;00m))\n\u001b[0;32m    431\u001b[0m     \u001b[38;5;28;01mreturn\u001b[39;00m response\n",
      "File \u001b[1;32m~\\.venvs\\artefact\\lib\\site-packages\\selenium\\webdriver\\remote\\errorhandler.py:243\u001b[0m, in \u001b[0;36mErrorHandler.check_response\u001b[1;34m(self, response)\u001b[0m\n\u001b[0;32m    241\u001b[0m         alert_text \u001b[38;5;241m=\u001b[39m value[\u001b[38;5;124m'\u001b[39m\u001b[38;5;124malert\u001b[39m\u001b[38;5;124m'\u001b[39m]\u001b[38;5;241m.\u001b[39mget(\u001b[38;5;124m'\u001b[39m\u001b[38;5;124mtext\u001b[39m\u001b[38;5;124m'\u001b[39m)\n\u001b[0;32m    242\u001b[0m     \u001b[38;5;28;01mraise\u001b[39;00m exception_class(message, screen, stacktrace, alert_text)  \u001b[38;5;66;03m# type: ignore[call-arg]  # mypy is not smart enough here\u001b[39;00m\n\u001b[1;32m--> 243\u001b[0m \u001b[38;5;28;01mraise\u001b[39;00m exception_class(message, screen, stacktrace)\n",
      "\u001b[1;31mElementNotInteractableException\u001b[0m: Message: element not interactable\n  (Session info: chrome=104.0.5112.102)\nStacktrace:\nBacktrace:\n\tOrdinal0 [0x011578B3+2193587]\n\tOrdinal0 [0x010F0681+1771137]\n\tOrdinal0 [0x01004070+802928]\n\tOrdinal0 [0x01033533+996659]\n\tOrdinal0 [0x01029223+954915]\n\tOrdinal0 [0x0104D7AC+1103788]\n\tOrdinal0 [0x01028C04+953348]\n\tOrdinal0 [0x0104D9C4+1104324]\n\tOrdinal0 [0x0105DAE2+1170146]\n\tOrdinal0 [0x0104D5C6+1103302]\n\tOrdinal0 [0x010277E0+948192]\n\tOrdinal0 [0x010286E6+952038]\n\tGetHandleVerifier [0x01400CB2+2738370]\n\tGetHandleVerifier [0x013F21B8+2678216]\n\tGetHandleVerifier [0x011E17AA+512954]\n\tGetHandleVerifier [0x011E0856+509030]\n\tOrdinal0 [0x010F743B+1799227]\n\tOrdinal0 [0x010FBB68+1817448]\n\tOrdinal0 [0x010FBC55+1817685]\n\tOrdinal0 [0x01105230+1856048]\n\tBaseThreadInitThunk [0x77316739+25]\n\tRtlGetFullPathName_UEx [0x77B990AF+1215]\n\tRtlGetFullPathName_UEx [0x77B9907D+1165]\n"
     ]
    }
   ],
   "source": [
    "import random, time\n",
    "\n",
    "urls = []\n",
    "ariannes = []\n",
    "titles = []\n",
    "prices = []\n",
    "sizes = []\n",
    "descriptions= []\n",
    "product_ids = []\n",
    "brands = []\n",
    "colors = []\n",
    "genres = []\n",
    "compositions = []\n",
    "categories = []\n",
    "reviews = []\n",
    "\n",
    "\n",
    "for i in range(len(products)):\n",
    "    \n",
    "    products = driver.find_elements(By.CLASS_NAME, \"pdp-link\")\n",
    "    products[i].click()\n",
    "        \n",
    "    print(f\"Checking product n°{i} at {driver.current_url}\")\n",
    "    \n",
    "    time.sleep(1)\n",
    "\n",
    "    try:\n",
    "        url = driver.current_url\n",
    "        urls.append(url)\n",
    "    except IndexError:\n",
    "        pass    \n",
    "    \n",
    "    try:\n",
    "        arianne = driver.find_elements(By.CLASS_NAME, \"c-breadcrumb__text\")\n",
    "        ariannes.append(arianne[0].text)\n",
    "    except IndexError:\n",
    "        pass\n",
    "    \n",
    "                \n",
    "    try:\n",
    "        title = driver.title\n",
    "        titles.append(title)\n",
    "    except IndexError:\n",
    "        pass\n",
    "    try:\n",
    "        price = driver.find_elements(By.CLASS_NAME, \"value\")[0]\n",
    "        prices.append(price.text)\n",
    "    except IndexError:\n",
    "        pass\n",
    "    \n",
    "    try:\n",
    "        size = driver.find_elements(By.CLASS_NAME, \"c-variation__attr-wrapper\")[0]\n",
    "        sizes.append(size.text)   \n",
    "    except IndexError:\n",
    "        pass\n",
    "    \n",
    "    try:\n",
    "        description = driver.find_elements(By.CLASS_NAME, \"c-product-detail__description-short\")[0]\n",
    "        descriptions.append(description.text)   \n",
    "    except IndexError:\n",
    "        pass    \n",
    "    \n",
    "    try: \n",
    "        product_id = driver.find_elements(By.CLASS_NAME, \"c-table-value\")[1]\n",
    "        product_ids.append(product_id.text)\n",
    "    except IndexError:\n",
    "        pass\n",
    "    \n",
    "    try:\n",
    "        brand = driver.find_elements(By.CLASS_NAME, \"c-table-value\")[2]\n",
    "        brands.append(brand.text)\n",
    "    except IndexError:\n",
    "        pass\n",
    "    \n",
    "    try:\n",
    "        color = driver.find_elements(By.CLASS_NAME, \"c-table-value\")[3]\n",
    "        colors.append(color.text)\n",
    "    except IndexError:\n",
    "        pass\n",
    "    \n",
    "    try:\n",
    "        genre = driver.find_elements(By.CLASS_NAME, \"c-table-value\")[4]\n",
    "        genres.append(genre.text)\n",
    "    except IndexError:\n",
    "        pass\n",
    "        \n",
    "    try:    \n",
    "        composition = driver.find_elements(By.CLASS_NAME, \"c-table-value\")[5]\n",
    "        compositions.append(composition.text)    \n",
    "    except IndexError:\n",
    "        pass\n",
    "    \n",
    "    try:\n",
    "        \n",
    "        category = driver.find_elements(By.CLASS_NAME, \"c-table-value\")[6]\n",
    "        categories.append(category.text)\n",
    "    except IndexError:\n",
    "        pass\n",
    "    \n",
    "    try:\n",
    "        review = driver.find_elements(By.CLASS_NAME, \"c-toggler__content\")[1]    \n",
    "        reviews.append(review.text)   \n",
    "    except IndexError:\n",
    "        pass        \n",
    "        \n",
    "    sleep_time = random.randint(1, 5)\n",
    "    print(f\"Waiting {sleep_time} second.\" if sleep_time == 1 else f\"Waiting {sleep_time} seconds.\")\n",
    "    time.sleep(sleep_time)\n",
    "    driver.back()"
   ]
  },
  {
   "cell_type": "code",
   "execution_count": null,
   "id": "fcc333bc",
   "metadata": {},
   "outputs": [],
   "source": [
    "driver.close() #reminder : don't forget to close the driver when you're done !"
   ]
  },
  {
   "cell_type": "markdown",
   "id": "b5a1b43e",
   "metadata": {},
   "source": [
    "### Test on Pages 2 to 6\n",
    "\n",
    "here I just play with selenium and try to improve my function to limitate the errors.\n",
    "But it works :) !"
   ]
  },
  {
   "cell_type": "code",
   "execution_count": 94,
   "id": "9ed4ed78",
   "metadata": {
    "scrolled": true
   },
   "outputs": [
    {
     "name": "stderr",
     "output_type": "stream",
     "text": [
      "C:\\Users\\baill\\AppData\\Local\\Temp\\ipykernel_42492\\3254420991.py:3: DeprecationWarning: executable_path has been deprecated, please pass in a Service object\n",
      "  driver = webdriver.Chrome(os.getcwd()+DRIVER_PATH)\n"
     ]
    }
   ],
   "source": [
    "#page 2 \n",
    "DRIVER_PATH = \"/chromedriver.exe\"\n",
    "BASE_URL2 = \"https://www.go-sport.com/running/vetements/?page=2\"\n",
    "driver = webdriver.Chrome(os.getcwd()+DRIVER_PATH)"
   ]
  },
  {
   "cell_type": "code",
   "execution_count": 95,
   "id": "a57088c8",
   "metadata": {},
   "outputs": [
    {
     "data": {
      "text/plain": [
       "('https://www.go-sport.com/running/vetements/?page=2',\n",
       " 'Vetements Running - Au meilleur prix - GO Sport')"
      ]
     },
     "execution_count": 95,
     "metadata": {},
     "output_type": "execute_result"
    }
   ],
   "source": [
    "driver.get(BASE_URL2)\n",
    "driver.current_url,driver.title"
   ]
  },
  {
   "cell_type": "code",
   "execution_count": null,
   "id": "9219f69d",
   "metadata": {},
   "outputs": [],
   "source": [
    "driver.close()"
   ]
  },
  {
   "cell_type": "code",
   "execution_count": 103,
   "id": "2283b74f",
   "metadata": {},
   "outputs": [
    {
     "name": "stderr",
     "output_type": "stream",
     "text": [
      "C:\\Users\\baill\\AppData\\Local\\Temp\\ipykernel_42492\\2577765470.py:3: DeprecationWarning: executable_path has been deprecated, please pass in a Service object\n",
      "  driver = webdriver.Chrome(os.getcwd()+DRIVER_PATH)\n"
     ]
    }
   ],
   "source": [
    "#page 3\n",
    "DRIVER_PATH = \"/chromedriver.exe\"\n",
    "BASE_URL3 = \"https://www.go-sport.com/running/vetements/?page=3\"\n",
    "driver = webdriver.Chrome(os.getcwd()+DRIVER_PATH)"
   ]
  },
  {
   "cell_type": "code",
   "execution_count": 104,
   "id": "098300ce",
   "metadata": {},
   "outputs": [
    {
     "data": {
      "text/plain": [
       "('https://www.go-sport.com/running/vetements/?page=3',\n",
       " 'Vetements Running - Au meilleur prix - GO Sport')"
      ]
     },
     "execution_count": 104,
     "metadata": {},
     "output_type": "execute_result"
    }
   ],
   "source": [
    "driver.get(BASE_URL3)\n",
    "driver.current_url,driver.title"
   ]
  },
  {
   "cell_type": "code",
   "execution_count": 138,
   "id": "9592c59b",
   "metadata": {},
   "outputs": [],
   "source": [
    "driver.close()"
   ]
  },
  {
   "cell_type": "code",
   "execution_count": 116,
   "id": "d3d9256a",
   "metadata": {},
   "outputs": [
    {
     "name": "stderr",
     "output_type": "stream",
     "text": [
      "C:\\Users\\baill\\AppData\\Local\\Temp\\ipykernel_42492\\2620979539.py:3: DeprecationWarning: executable_path has been deprecated, please pass in a Service object\n",
      "  driver = webdriver.Chrome(os.getcwd()+DRIVER_PATH)\n"
     ]
    }
   ],
   "source": [
    "DRIVER_PATH = \"/chromedriver.exe\"\n",
    "BASE_URL4 = \"https://www.go-sport.com/running/vetements/?page=4\"\n",
    "driver = webdriver.Chrome(os.getcwd()+DRIVER_PATH)"
   ]
  },
  {
   "cell_type": "code",
   "execution_count": 117,
   "id": "ce75d50e",
   "metadata": {},
   "outputs": [
    {
     "data": {
      "text/plain": [
       "('https://www.go-sport.com/running/vetements/?page=4',\n",
       " 'Vetements Running - Au meilleur prix - GO Sport')"
      ]
     },
     "execution_count": 117,
     "metadata": {},
     "output_type": "execute_result"
    }
   ],
   "source": [
    "driver.get(BASE_URL4)\n",
    "driver.current_url,driver.title"
   ]
  },
  {
   "cell_type": "code",
   "execution_count": null,
   "id": "644e4a97",
   "metadata": {},
   "outputs": [],
   "source": [
    "driver.close()"
   ]
  },
  {
   "cell_type": "code",
   "execution_count": 126,
   "id": "52667d92",
   "metadata": {},
   "outputs": [
    {
     "name": "stderr",
     "output_type": "stream",
     "text": [
      "C:\\Users\\baill\\AppData\\Local\\Temp\\ipykernel_42492\\2128520314.py:3: DeprecationWarning: executable_path has been deprecated, please pass in a Service object\n",
      "  driver = webdriver.Chrome(os.getcwd()+DRIVER_PATH)\n"
     ]
    }
   ],
   "source": [
    "DRIVER_PATH = \"/chromedriver.exe\"\n",
    "BASE_URL5 = \"https://www.go-sport.com/running/vetements/?page=5\"\n",
    "driver = webdriver.Chrome(os.getcwd()+DRIVER_PATH)"
   ]
  },
  {
   "cell_type": "code",
   "execution_count": 127,
   "id": "dbca7f4c",
   "metadata": {},
   "outputs": [
    {
     "data": {
      "text/plain": [
       "('https://www.go-sport.com/running/vetements/?page=5',\n",
       " 'Vetements Running - Au meilleur prix - GO Sport')"
      ]
     },
     "execution_count": 127,
     "metadata": {},
     "output_type": "execute_result"
    }
   ],
   "source": [
    "driver.get(BASE_URL5)\n",
    "driver.current_url,driver.title"
   ]
  },
  {
   "cell_type": "code",
   "execution_count": null,
   "id": "22860941",
   "metadata": {},
   "outputs": [],
   "source": [
    "DRIVER_PATH = \"/chromedriver.exe\"\n",
    "BASE_URL6 = \"https://www.go-sport.com/running/vetements/?page=6\"\n",
    "driver = webdriver.Chrome(os.getcwd()+DRIVER_PATH)"
   ]
  },
  {
   "cell_type": "code",
   "execution_count": null,
   "id": "a1b4ac90",
   "metadata": {},
   "outputs": [],
   "source": [
    "driver.get(BASE_URL6)\n",
    "driver.current_url,driver.title"
   ]
  },
  {
   "cell_type": "code",
   "execution_count": 128,
   "id": "257c65f6",
   "metadata": {},
   "outputs": [
    {
     "data": {
      "text/plain": [
       "[<selenium.webdriver.remote.webelement.WebElement (session=\"dfa1fe3d02beb0dc4a6ce8638ecab2b5\", element=\"8768a27e-54fc-438d-b43b-79587f045950\")>,\n",
       " <selenium.webdriver.remote.webelement.WebElement (session=\"dfa1fe3d02beb0dc4a6ce8638ecab2b5\", element=\"13dcf8d6-9017-43ca-8a89-968268b334ec\")>]"
      ]
     },
     "execution_count": 128,
     "metadata": {},
     "output_type": "execute_result"
    }
   ],
   "source": [
    "button_agree = driver.find_elements(By.CLASS_NAME, \"onetrust-close-btn-handler\")\n",
    "button_agree"
   ]
  },
  {
   "cell_type": "code",
   "execution_count": 129,
   "id": "4af9288b",
   "metadata": {},
   "outputs": [],
   "source": [
    "button_agree[0].click()"
   ]
  },
  {
   "cell_type": "code",
   "execution_count": 130,
   "id": "eaab4145",
   "metadata": {},
   "outputs": [
    {
     "name": "stdout",
     "output_type": "stream",
     "text": [
      "Checking product n°0 at https://www.go-sport.com/running/vetements/homme/running-homme-columbia-columbia-fast-trek-fleece-vest-m12486621.html\n",
      "Waiting 2 seconds.\n",
      "Checking product n°1 at https://www.go-sport.com/running/vetements/femme/coupe-vents-et-vestes/running-femme-bodycross-coupe-vent-velia-gris-m6032836.html\n",
      "Waiting 1 second.\n",
      "Checking product n°2 at https://www.go-sport.com/running-homme-gore-wear-gore-wear-r5-short-m1837854.html\n",
      "Waiting 4 seconds.\n",
      "Checking product n°3 at https://www.go-sport.com/running/vetements/femme/course-a-pied-femme-newline-debardeur-femme-newline-base-cool-m10487227.html\n",
      "Waiting 5 seconds.\n",
      "Checking product n°4 at https://www.go-sport.com/running/vetements/femme/course-a-pied-femme-newline-debardeur-femme-newline-base-cool-m10488419.html\n",
      "Waiting 1 second.\n",
      "Checking product n°5 at https://www.go-sport.com/running/vetements/femme/course-a-pied-femme-newline-debardeur-femme-newline-base-cool-m10488392.html\n",
      "Waiting 4 seconds.\n",
      "Checking product n°6 at https://www.go-sport.com/running/vetements/femme/course-a-pied-femme-newline-debardeur-femme-newline-base-coolskin-m10488085.html\n",
      "Waiting 2 seconds.\n",
      "Checking product n°7 at https://www.go-sport.com/sports/plus-de-sports/danse/adulte/leggings-et-collants-de-danse-femme/running-femme-adidas-adidas-aop-tights-m8557661.html\n",
      "Waiting 1 second.\n",
      "Checking product n°8 at https://www.go-sport.com/running/vetements/femme/course-a-pied-femme-nike-debardeur-femme-nike-run-m8556440.html\n",
      "Waiting 4 seconds.\n",
      "Checking product n°9 at https://www.go-sport.com/running/vetements/homme/tee-shirts/running-homme-softee-camiseta-running-element-softee-fitness-hombre-m12249987.html\n",
      "Waiting 4 seconds.\n",
      "Checking product n°10 at https://www.go-sport.com/femme/vetements/tee-shirts/tee-shirts-manches-courtes/running/running-femme-bodycross-t-shirt-trail-milie-noir-m6064917.html\n",
      "Waiting 4 seconds.\n",
      "Checking product n°11 at https://www.go-sport.com/femme/vetements/tee-shirts/tee-shirts-manches-courtes/running/running-femme-runaway-jim-t-shirt-basic-said-femme-rose-m12150691.html\n",
      "Waiting 4 seconds.\n",
      "Checking product n°12 at https://www.go-sport.com/femme/vetements/tee-shirts/marques/nike/running-femme-nike-nike-running-tank-m8558674.html\n",
      "Waiting 5 seconds.\n",
      "Checking product n°13 at https://www.go-sport.com/course-a-pied-homme-rock-short-rock-experience-sky-p-m10564623.html\n",
      "Waiting 4 seconds.\n",
      "Checking product n°14 at https://www.go-sport.com/femme/vetements/tee-shirts/marques/adidas/course-a-pied-femme-adidas-t-shirt-femme-adidas-heat.rdy-m6957952.html\n",
      "Waiting 3 seconds.\n",
      "Checking product n°15 at https://www.go-sport.com/femme/vetements/tee-shirts/marques/adidas/course-a-pied-femme-adidas-debardeur-femme-adidas-25%2F7-m7376181.html\n",
      "Waiting 3 seconds.\n",
      "Checking product n°16 at https://www.go-sport.com/running/vetements/femme/coupe-vents-et-vestes/running-femme-bodycross-coupe-vent-sans-manches-vicky-noir-m6064918.html\n",
      "Waiting 2 seconds.\n",
      "Checking product n°17 at https://www.go-sport.com/football-homme-nike-soccer-drill-maillot-h--blanc-nr-m11420925.html\n",
      "Waiting 3 seconds.\n",
      "Checking product n°18 at https://www.go-sport.com/running/vetements/femme/course-a-pied-femme-newline-debardeur-femme-newline-base-cool-m10488030.html\n",
      "Waiting 1 second.\n",
      "Checking product n°19 at https://www.go-sport.com/femme/vetements/tee-shirts/tee-shirts-manches-courtes/running/running-femme-runaway-jim-debardeur-filipides-femme-mauve-blanche-m12150788.html\n",
      "Waiting 3 seconds.\n",
      "Checking product n°20 at https://www.go-sport.com/running/vetements/femme/course-a-pied-femme-bodycross-t-shirt-running-lora-neon-corail-m797827.html\n",
      "Waiting 5 seconds.\n",
      "Checking product n°21 at https://www.go-sport.com/running/vetements/femme/course-a-pied-femme-newline-debardeur-femme-newline-base-cool-m10488446.html\n",
      "Waiting 4 seconds.\n",
      "Checking product n°22 at https://www.go-sport.com/running-homme-adidas-adidas-saturday-split-m6937309.html\n",
      "Waiting 3 seconds.\n",
      "Checking product n°23 at https://www.go-sport.com/femme/vetements/tee-shirts/marques/adidas/course-a-pied-femme-adidas-t-shirt-femme-adidas-own-the-run-cooler-m12328001.html\n",
      "Waiting 3 seconds.\n"
     ]
    }
   ],
   "source": [
    "for i in range(len(products)):\n",
    "    \n",
    "    products = driver.find_elements(By.CLASS_NAME, \"pdp-link\")\n",
    "    products[i].click()\n",
    "        \n",
    "    print(f\"Checking product n°{i} at {driver.current_url}\")\n",
    "    \n",
    "    time.sleep(1)\n",
    "\n",
    "    try:\n",
    "        url = driver.current_url\n",
    "        urls.append(url)\n",
    "    except IndexError:\n",
    "        pass    \n",
    "    \n",
    "    try:\n",
    "        arianne = driver.find_elements(By.CLASS_NAME, \"c-breadcrumb__text\")\n",
    "        ariannes.append(arianne[0].text)\n",
    "    except IndexError:\n",
    "        pass\n",
    "    try:\n",
    "        title = driver.title\n",
    "        titles.append(title)\n",
    "    except IndexError:\n",
    "        pass\n",
    "    try:\n",
    "        price = driver.find_elements(By.CLASS_NAME, \"value\")[0]\n",
    "        prices.append(price.text)\n",
    "    except IndexError:\n",
    "        pass\n",
    "    \n",
    "    try:\n",
    "        size = driver.find_elements(By.CLASS_NAME, \"c-variation__attr-wrapper\")[0]\n",
    "        sizes.append(size.text)   \n",
    "    except IndexError:\n",
    "        pass\n",
    "    \n",
    "    try:\n",
    "        description = driver.find_elements(By.CLASS_NAME, \"c-product-detail__description-short\")[0]\n",
    "        descriptions.append(description.text)   \n",
    "    except IndexError:\n",
    "        pass    \n",
    "    \n",
    "    try: \n",
    "        product_id = driver.find_elements(By.CLASS_NAME, \"c-table-value\")[1]\n",
    "        product_ids.append(product_id.text)\n",
    "    except IndexError:\n",
    "        pass\n",
    "    \n",
    "    try:\n",
    "        brand = driver.find_elements(By.CLASS_NAME, \"c-table-value\")[2]\n",
    "        brands.append(brand.text)\n",
    "    except IndexError:\n",
    "        pass\n",
    "    \n",
    "    try:\n",
    "        color = driver.find_elements(By.CLASS_NAME, \"c-table-value\")[3]\n",
    "        colors.append(color.text)\n",
    "    except IndexError:\n",
    "        pass\n",
    "    \n",
    "    try:\n",
    "        genre = driver.find_elements(By.CLASS_NAME, \"c-table-value\")[4]\n",
    "        genres.append(genre.text)\n",
    "    except IndexError:\n",
    "        pass\n",
    "        \n",
    "    try:    \n",
    "        composition = driver.find_elements(By.CLASS_NAME, \"c-table-value\")[5]\n",
    "        compositions.append(composition.text)    \n",
    "    except IndexError:\n",
    "        pass\n",
    "    \n",
    "    try:\n",
    "        \n",
    "        category = driver.find_elements(By.CLASS_NAME, \"c-table-value\")[6]\n",
    "        categories.append(category.text)\n",
    "    except IndexError:\n",
    "        pass\n",
    "    \n",
    "    try:\n",
    "        review = driver.find_elements(By.CLASS_NAME, \"c-toggler__content\")[1]    \n",
    "        reviews.append(review.text)   \n",
    "    except IndexError:\n",
    "        pass        \n",
    "        \n",
    "    sleep_time = random.randint(1, 5)\n",
    "    print(f\"Waiting {sleep_time} second.\" if sleep_time == 1 else f\"Waiting {sleep_time} seconds.\")\n",
    "    time.sleep(sleep_time)\n",
    "    driver.back()"
   ]
  },
  {
   "cell_type": "code",
   "execution_count": 139,
   "id": "56520731",
   "metadata": {},
   "outputs": [
    {
     "data": {
      "text/plain": [
       "(88, 88, 88)"
      ]
     },
     "execution_count": 139,
     "metadata": {},
     "output_type": "execute_result"
    }
   ],
   "source": [
    "# And now we have all the informations we wanted to get !\n",
    "len(prices),len(brands),len(titles)"
   ]
  },
  {
   "cell_type": "code",
   "execution_count": 100,
   "id": "eb353c12",
   "metadata": {},
   "outputs": [
    {
     "data": {
      "text/plain": [
       "[<selenium.webdriver.remote.webelement.WebElement (session=\"a0a0d335c3d52a5f017ded19f4a309b4\", element=\"83c8a8dc-105f-4dbf-8151-49b9c65b2554\")>]"
      ]
     },
     "execution_count": 100,
     "metadata": {},
     "output_type": "execute_result"
    }
   ],
   "source": [
    "button_next = driver.find_elements(By.CLASS_NAME, \"show-more\")\n",
    "button_next\n"
   ]
  },
  {
   "cell_type": "code",
   "execution_count": 101,
   "id": "0d6c2a8c",
   "metadata": {},
   "outputs": [],
   "source": [
    "button_next[0].click()"
   ]
  },
  {
   "cell_type": "code",
   "execution_count": 123,
   "id": "b72966e1",
   "metadata": {},
   "outputs": [
    {
     "name": "stdout",
     "output_type": "stream",
     "text": [
      "Checking product n°0 at https://www.go-sport.com/homme/vetements/tee-shirts/manches-longues/running/tee-shirt-mc-trail-homme-nike-db-gs10519797.html\n",
      "Waiting 5 seconds.\n",
      "Checking product n°1 at https://www.go-sport.com/running/vetements/femme/coupe-vents-et-vestes/running-femme-bodycross-coupe-vent-velia-noir-m6064915.html\n",
      "Waiting 5 seconds.\n",
      "Checking product n°2 at https://www.go-sport.com/football-homme-adidas-maillot-adidas-team-base-m9014309.html\n",
      "Waiting 1 second.\n",
      "Checking product n°3 at https://www.go-sport.com/running/vetements/femme/course-a-pied-femme-joma-maillot-femme-joma-elite-viii-m10389435.html\n",
      "Waiting 1 second.\n",
      "Checking product n°4 at https://www.go-sport.com/running/vetements/femme/course-a-pied-femme-joma-debardeur-femme-joma-elite-vii-m8805022.html\n",
      "Waiting 2 seconds.\n",
      "Checking product n°5 at https://www.go-sport.com/running/vetements/femme/course-a-pied-femme-macron-debardeur-femme-macron-running-selina-m8810345.html\n",
      "Waiting 4 seconds.\n",
      "Checking product n°6 at https://www.go-sport.com/running/vetements/homme/tee-shirts/fitness-adulte-le-coq-sportif-t-shirt-france-olympique-2022-comm-n1-m11427368.html\n",
      "Waiting 3 seconds.\n",
      "Checking product n°7 at https://www.go-sport.com/running/vetements/femme/course-a-pied-femme-joma-maillot-femme-joma-record-ii-m10389264.html\n",
      "Waiting 3 seconds.\n",
      "Checking product n°8 at https://www.go-sport.com/running/vetements/femme/course-a-pied-femme-joma-debardeur-femme-joma-elite-viii-m10389246.html\n",
      "Waiting 3 seconds.\n",
      "Checking product n°9 at https://www.go-sport.com/running/vetements/femme/course-a-pied-femme-joma-debardeur-court-femme-joma-elite-viii-m10389200.html\n",
      "Waiting 5 seconds.\n",
      "Checking product n°10 at https://www.go-sport.com/course-a-pied-homme-macron-short-macron-hugo-m2382882.html\n",
      "Waiting 3 seconds.\n",
      "Checking product n°11 at https://www.go-sport.com/running/vetements/femme/course-a-pied-femme-joma-debardeur-femme-joma-supernova-ii-m8805154.html\n",
      "Waiting 4 seconds.\n",
      "Checking product n°12 at https://www.go-sport.com/running/vetements/femme/course-a-pied-femme-asics-debardeur-femme-asics-future-tokyo-m6973073.html\n",
      "Waiting 4 seconds.\n",
      "Checking product n°13 at https://www.go-sport.com/course-a-pied-homme-errea-short-errea-shima-m2382380.html\n",
      "Waiting 4 seconds.\n",
      "Checking product n°14 at https://www.go-sport.com/running/athletisme/vetements/pantalon-running-homme-nike-uv-chllgr-hybrid-gs10519792.html\n",
      "Waiting 2 seconds.\n",
      "Checking product n°15 at https://www.go-sport.com/running/trail/vetements/coupe-vents-et-vestes/coupe-vent--veste-trail-homme/veste-running-homme-salomon-bonatti-wp-gs11991614.html\n",
      "Waiting 2 seconds.\n",
      "Checking product n°16 at https://www.go-sport.com/homme/vetements/tee-shirts/manches-longues/running/tee-shirt-mc-running-homme-salomon-cross-graphic-gs11991616.html\n",
      "Waiting 1 second.\n",
      "Checking product n°17 at https://www.go-sport.com/course-a-pied-homme-gore-short-gore-r5-2in1-m12048158.html\n",
      "Waiting 1 second.\n",
      "Checking product n°18 at https://www.go-sport.com/running/vetements/femme/course-a-pied-femme-joma-haut-femme-joma-elite-vii-m8805457.html\n",
      "Waiting 1 second.\n",
      "Checking product n°19 at https://www.go-sport.com/running/vetements/homme/tee-shirts/manches-longues/course-a-pied-homme-newline-debardeur-manches-longues-newline-core-running-m10487998.html\n",
      "Waiting 1 second.\n",
      "Checking product n°20 at https://www.go-sport.com/mode--lifestyle-garcon-le-coq-sportif-t-shirt-enfant-le-coq-sportif-bat-n1-m11237554.html\n",
      "Waiting 1 second.\n",
      "Checking product n°21 at https://www.go-sport.com/football-garcon-le-coq-sportif-maillot-enfant-third-replica-as-saint-etienne-m12667272.html\n",
      "Waiting 3 seconds.\n",
      "Checking product n°22 at https://www.go-sport.com/running/vetements/femme/course-a-pied-femme-newline-debardeur-femme-newline-core-running-singlet-m10552958.html\n",
      "Waiting 2 seconds.\n",
      "Checking product n°23 at https://www.go-sport.com/femme/vetements/tee-shirts/tee-shirts-manches-courtes/running/running-femme-joma-joma-elite-vii-m9945724.html\n",
      "Waiting 2 seconds.\n",
      "Checking product n°24 at https://www.go-sport.com/running/athletisme/vetements/short-multisport-homme-rukka-myllypuro-gs8803190.html\n",
      "Waiting 5 seconds.\n",
      "Checking product n°25 at https://www.go-sport.com/running/athletisme/vetements/nike-m-nk-tf-rpl-chllgr-pant-gs100000754.html\n",
      "Waiting 2 seconds.\n",
      "Checking product n°26 at https://www.go-sport.com/fitness-musculation/tenues/femme/lingeries-sportives/brassiere-cardio-fitness-femme-adidas-am-s3-mesh-gs4399322.html\n",
      "Waiting 4 seconds.\n",
      "Checking product n°27 at https://www.go-sport.com/running/athletisme/vetements/corsaire-multisport-femme-athli-tech-pia-300-gs10475788.html\n",
      "Waiting 4 seconds.\n",
      "Checking product n°28 at https://www.go-sport.com/femme/vetements/brassieres/maintien-fort/brassiere-multisport-femme-puma-mid-impact-feel-it-2-gs10495544.html\n",
      "Waiting 4 seconds.\n",
      "Checking product n°29 at https://www.go-sport.com/femme/vetements/brassieres/maintien-fort/brassiere-multisport-femme-nike-alphas-hs-front-zip-b-gs10563838.html\n",
      "Waiting 3 seconds.\n",
      "Checking product n°30 at https://www.go-sport.com/running/vetements/femme/course-a-pied-femme-macron-maillot-femme-macron-patricia-m2382878.html\n",
      "Waiting 3 seconds.\n",
      "Checking product n°31 at https://www.go-sport.com/running/accessoires/chaussettes/chaussettes-basses-running-mixte-athli-tech-tech-x2-tact-gs3630854.html\n",
      "Waiting 4 seconds.\n",
      "Checking product n°32 at https://www.go-sport.com/running/athletisme/vetements/tee-shirt-mc-running-homme-athli-tech-kary-200-gs4337457.html\n",
      "Waiting 4 seconds.\n",
      "Checking product n°33 at https://www.go-sport.com/running/athletisme/vetements/tee-shirt-mc-multisport-homme-athli-tech-maery-200-tmc-gs6742620.html\n",
      "Waiting 4 seconds.\n",
      "Checking product n°34 at https://www.go-sport.com/running/athletisme/vetements/tee-shirt-mc-running-femme-athli-tech-mary-100-gs6742637.html\n",
      "Waiting 5 seconds.\n",
      "Checking product n°35 at https://www.go-sport.com/course-a-pied-homme-newline-short-newline-core-m11218937.html\n",
      "Waiting 1 second.\n",
      "Checking product n°36 at https://www.go-sport.com/running-femme-bodycross-t-shirt-milie-ultra-m11678762.html\n",
      "Waiting 2 seconds.\n",
      "Checking product n°37 at https://www.go-sport.com/femme/vetements/tee-shirts/tee-shirts-manches-courtes/running/mode--lifestyle-femme-le-coq-sportif-t-shirt-femme-le-coq-sportif-training-perf-m11234638.html\n",
      "Waiting 1 second.\n",
      "Checking product n°38 at https://www.go-sport.com/running/vetements/femme/course-a-pied-femme-joma-t-shirt-femme-joma-record-ii-m10389157.html\n",
      "Waiting 1 second.\n",
      "Checking product n°39 at https://www.go-sport.com/football-adulte-le-coq-sportif-t-shirt-de-presentation-fc-lausanne-sport-m10845866.html\n",
      "Waiting 3 seconds.\n",
      "Checking product n°40 at https://www.go-sport.com/femme/vetements/tee-shirts/tee-shirts-manches-courtes/running/running-femme-joma-joma-elite-vii-m9946220.html\n",
      "Waiting 2 seconds.\n",
      "Checking product n°41 at https://www.go-sport.com/running/vetements/homme/collants-et-corsaires/course-a-pied-homme-newline-collant-newline-core-warm-m10649945.html\n",
      "Waiting 1 second.\n",
      "Checking product n°42 at https://www.go-sport.com/running/athletisme/vetements/tee-shirt-mc-randonnee-femme-kari-traa-sanne-hiking-gs11991700.html\n",
      "Waiting 1 second.\n",
      "Checking product n°43 at https://www.go-sport.com/running/vetements/homme/tee-shirts/running-homme-joma-joma-elite-vii-m9946926.html\n",
      "Waiting 3 seconds.\n",
      "Checking product n°44 at https://www.go-sport.com/running/vetements/homme/collants-et-corsaires/running-homme-joma-joma-running-m1361497.html\n",
      "Waiting 1 second.\n",
      "Checking product n°45 at https://www.go-sport.com/running/vetements/femme/course-a-pied-femme-joma-debardeur-court-femme-joma-record-ii-m10388946.html\n",
      "Waiting 5 seconds.\n",
      "Checking product n°46 at https://www.go-sport.com/running/athletisme/vetements/collant-running-femme-odlo-essentials-soft-3%2F4-gs9081682.html\n",
      "Waiting 4 seconds.\n",
      "Checking product n°47 at https://www.go-sport.com/running/vetements/femme/shorts-/odlo-zeroweight-3-inch-shorts-gs9081683.html\n",
      "Waiting 2 seconds.\n",
      "Checking product n°48 at https://www.go-sport.com/running/athletisme/vetements/asics-w-race-sleeveless-gs6110006.html\n",
      "Waiting 3 seconds.\n",
      "Checking product n°49 at https://www.go-sport.com/running/athletisme/vetements/collant-running-homme-salomon-agile-long-tight-gs4837532.html\n",
      "Waiting 3 seconds.\n",
      "Checking product n°50 at https://www.go-sport.com/running/athletisme/vetements/tee-shirt-mc-running-homme-athli-tech-gavin-100-gs4335506.html\n"
     ]
    },
    {
     "name": "stdout",
     "output_type": "stream",
     "text": [
      "Waiting 3 seconds.\n",
      "Checking product n°51 at https://www.go-sport.com/running/vetements/femme/coupe-vents-et-vestes/veste-coupe-vent-running-femme-athli-tech-gaelle-300-cpv-gs2586878.html\n",
      "Waiting 2 seconds.\n",
      "Checking product n°52 at https://www.go-sport.com/running/vetements/femme/coupe-vents-et-vestes/rukka-wm-jacket-munk-gs5859193.html\n",
      "Waiting 4 seconds.\n",
      "Checking product n°53 at https://www.go-sport.com/homme/vetements/tee-shirts/manches-longues/running/salomon-agile-training-tee-m-gs6654737.html\n",
      "Waiting 3 seconds.\n",
      "Checking product n°54 at https://www.go-sport.com/running/athletisme/vetements/tee-shirt-mc-running-femme-athli-tech-pia-200-gs10475775.html\n",
      "Waiting 4 seconds.\n",
      "Checking product n°55 at https://www.go-sport.com/running/vetements/homme/tee-shirts/running-homme-joma-joma-elite-vi-m2231436.html\n",
      "Waiting 4 seconds.\n",
      "Checking product n°56 at https://www.go-sport.com/fitness-femme-le-coq-sportif-short-femme-le-coq-sportif-training-perf-running-n1-m12359725.html\n",
      "Waiting 2 seconds.\n",
      "Checking product n°57 at https://www.go-sport.com/running/vetements/femme/shorts-/short-running-homme-salomon-cross-twinskin-gs11991620.html\n",
      "Waiting 3 seconds.\n",
      "Checking product n°58 at https://www.go-sport.com/running/vetements/femme/course-a-pied-femme-joma-maillot-femme-joma-elite-vii-m8805116.html\n",
      "Waiting 5 seconds.\n",
      "Checking product n°59 at https://www.go-sport.com/running/vetements/femme/running-femme-le-coq-sportif-debardeur-femme-m12669405.html\n",
      "Waiting 2 seconds.\n",
      "Checking product n°60 at https://www.go-sport.com/running/vetements/homme/tee-shirts/manches-longues/course-a-pied-homme-nike-t-shirt-nike-dri-fit-element-crew-m12702005.html\n",
      "Waiting 2 seconds.\n",
      "Checking product n°61 at https://www.go-sport.com/running/vetements/homme/tee-shirts/sans-manche/fitness-homme-le-coq-sportif-debardeur-le-coq-sportif-training-perf-m11234593.html\n",
      "Waiting 4 seconds.\n",
      "Checking product n°62 at https://www.go-sport.com/running/vetements/homme/tee-shirts/manches-longues/course-a-pied-homme-newline-debardeur-manches-longues-newline-core-running-m11145872.html\n",
      "Waiting 5 seconds.\n",
      "Checking product n°63 at https://www.go-sport.com/running/vetements/femme/coupe-vents-et-vestes/running-femme-adidas-performance-adidas-performance-veste-de-survetement-run-ult-jacket-m11266672.html\n",
      "Waiting 5 seconds.\n",
      "Checking product n°64 at https://www.go-sport.com/running/vetements/homme/running-homme-salming-salming-abisko-rain-m1316799.html\n",
      "Waiting 2 seconds.\n",
      "Checking product n°65 at https://www.go-sport.com/running/vetements/femme/coupe-vents-et-vestes/running-femme-bodycross-coupe-vent-femme-abie-noir-rose-m12118395.html\n",
      "Waiting 2 seconds.\n",
      "Checking product n°66 at https://www.go-sport.com/running/vetements/vetements-chauds/homme/tee-shirt-ml-multisport-homme-rukka-meilan-gs11991710.html\n",
      "Waiting 4 seconds.\n",
      "Checking product n°67 at https://www.go-sport.com/running/athletisme/vetements/tee-shirt-running-homme-salomon-xa-trail-gs8231208.html\n",
      "Waiting 3 seconds.\n",
      "Checking product n°68 at https://www.go-sport.com/running/trail/vetements/coupe-vents-et-vestes/coupe-vent--veste-trail-homme/veste-running-homme-salomon-bonatti-cross-gs11991615.html\n",
      "Waiting 2 seconds.\n",
      "Checking product n°69 at https://www.go-sport.com/running/athletisme/gants-and-bonnet/gants-run-autres-protection-froid/tour-de-cou--running-nike-running-wrap-000000000001252183.html\n",
      "Waiting 1 second.\n",
      "Checking product n°70 at https://www.go-sport.com/femme/vetements/brassieres/maintien-fort/brassiere-fitness-femme-adidas-all-me-3-stripes-mesh-gs5502578.html\n",
      "Waiting 2 seconds.\n",
      "Checking product n°71 at https://www.go-sport.com/running/vetements/homme/tee-shirts/sans-manche/running-homme-joma-joma-elite-v-sleeveless-m1415225.html\n",
      "Waiting 3 seconds.\n",
      "Checking product n°72 at https://www.go-sport.com/homme/vetements/vestes-et-parkas/vestes/running/athli-tech-kary-300-cpp-reflect-m-gs4335505.html\n",
      "Waiting 4 seconds.\n",
      "Checking product n°73 at https://www.go-sport.com/fitness-musculation/tenues/femme/pantacourts-et-capris/legging-running-femme-athli-tech-gia-50-gs2586842.html\n",
      "Waiting 1 second.\n",
      "Checking product n°74 at https://www.go-sport.com/homme/vetements/tee-shirts/marques/nike-/nike-m-nk-tf-rpl-elmnt-hz-gs9391889.html\n",
      "Waiting 4 seconds.\n",
      "Checking product n°75 at https://www.go-sport.com/fitness-musculation/tenues/femme/lingeries-sportives/brassiere-cardio-fitness-femme-happyandso-croisee-gs4855618.html\n",
      "Waiting 4 seconds.\n",
      "Checking product n°76 at https://www.go-sport.com/running/vetements/femme/coupe-vents-et-vestes/veste-running-femme-salomon-bonatti-wp-gs11991622.html\n",
      "Waiting 1 second.\n",
      "Checking product n°77 at https://www.go-sport.com/running/vetements/femme/coupe-vents-et-vestes/veste-running-femme-athli-tech-lary-300-gs5456412.html\n",
      "Waiting 4 seconds.\n",
      "Checking product n°78 at https://www.go-sport.com/femme/vetements/brassieres/maintien-fort/brassiere-multisport-femme-nike-df-swsh-plus-lprd-aop-gs10507892.html\n",
      "Waiting 2 seconds.\n",
      "Checking product n°79 at https://www.go-sport.com/fitness-musculation/tenues/femme/lingeries-sportives/brassiere-fitness-femme-adidas-camo-bt-gs6726419.html\n",
      "Waiting 2 seconds.\n",
      "Checking product n°80 at https://www.go-sport.com/running/athletisme/vetements/collant-running-femme-nike-df-fast-gs9391865.html\n",
      "Waiting 1 second.\n",
      "Checking product n°81 at https://www.go-sport.com/running/vetements/homme/tee-shirts/running-homme-nike-nike-drifit-miler-running-top-m10550036.html\n",
      "Waiting 3 seconds.\n",
      "Checking product n°82 at https://www.go-sport.com/running/vetements/femme/course-a-pied-femme-joma-debardeur-court-femme-joma-record-ii-m10389375.html\n",
      "Waiting 5 seconds.\n",
      "Checking product n°83 at https://www.go-sport.com/ski-femme-odlo-odlo-natural-and-ceramiwool-singlet-m12850774.html\n",
      "Waiting 4 seconds.\n",
      "Checking product n°84 at https://www.go-sport.com/course-a-pied-homme-macron-short-macron-running-tybalt-m8811028.html\n",
      "Waiting 3 seconds.\n",
      "Checking product n°85 at https://www.go-sport.com/running-homme-joma-joma-race-sleeveless-m12609044.html\n",
      "Waiting 3 seconds.\n",
      "Checking product n°86 at https://www.go-sport.com/femme/vetements/tee-shirts/marques/adidas/course-a-pied-femme-adidas-t-shirt-femme-adidas-fast-allover-print-m12764606.html\n",
      "Waiting 4 seconds.\n",
      "Checking product n°87 at https://www.go-sport.com/thematique/selection-randonnee/running-femme-gore-wear-gore-wear-r3-collant-m1837879.html\n",
      "Waiting 3 seconds.\n",
      "Checking product n°88 at https://www.go-sport.com/sports/plus-de-sports/danse/adulte/leggings-et-collants-de-danse-femme/fitness-femme-adidas-legging-femme-adidas-believe-this-2.0-3-bandes-rib-7%2F8-m9393519.html\n",
      "Waiting 2 seconds.\n",
      "Checking product n°89 at https://www.go-sport.com/course-a-pied-homme-rock-short-rock-experience-sky-m10564591.html\n",
      "Waiting 3 seconds.\n",
      "Checking product n°90 at https://www.go-sport.com/running/vetements/femme/running-femme-joma-joma-diana-sleeveless-m1511353.html\n",
      "Waiting 5 seconds.\n",
      "Checking product n°91 at https://www.go-sport.com/running-femme-fila-brianna-woven-short-m6330203.html\n",
      "Waiting 2 seconds.\n",
      "Checking product n°92 at https://www.go-sport.com/running/vetements/femme/course-a-pied-femme-joma-debardeur-femme-joma-record-ii-m10389387.html\n",
      "Waiting 3 seconds.\n",
      "Checking product n°93 at https://www.go-sport.com/running/vetements/homme/running-homme-joma-joma-vest-urban-m1462356.html\n",
      "Waiting 4 seconds.\n",
      "Checking product n°94 at https://www.go-sport.com/running/vetements/femme/course-a-pied-femme-joma-debardeur-femme-joma-elite-vii-m8805473.html\n",
      "Waiting 5 seconds.\n",
      "Checking product n°95 at https://www.go-sport.com/running/athletisme/vetements/athli-tech-kelly-200-deb-w-gs4337454.html\n",
      "Waiting 3 seconds.\n"
     ]
    }
   ],
   "source": [
    "for i in range(len(products)):\n",
    "    \n",
    "    products = driver.find_elements(By.CLASS_NAME, \"pdp-link\")\n",
    "    products[i].click()\n",
    "        \n",
    "    print(f\"Checking product n°{i} at {driver.current_url}\")\n",
    "    \n",
    "    time.sleep(1)\n",
    "    try:\n",
    "        arianne = driver.find_elements(By.CLASS_NAME, \"c-breadcrumb__text\")\n",
    "        ariannes.append(arianne[0].text)\n",
    "    except IndexError:\n",
    "        pass\n",
    "    try:\n",
    "        title = driver.title\n",
    "        titles.append(title)\n",
    "    except IndexError:\n",
    "        pass\n",
    "    try:\n",
    "        price = driver.find_elements(By.CLASS_NAME, \"value\")[0]\n",
    "        prices.append(price.text)\n",
    "    except IndexError:\n",
    "        pass\n",
    "    \n",
    "    try:\n",
    "        size = driver.find_elements(By.CLASS_NAME, \"c-variation__attr-wrapper\")[0]\n",
    "        sizes.append(size.text)   \n",
    "    except IndexError:\n",
    "        pass\n",
    "    \n",
    "    try:\n",
    "        description = driver.find_elements(By.CLASS_NAME, \"c-product-detail__description-short\")[0]\n",
    "        descriptions.append(description.text)   \n",
    "    except IndexError:\n",
    "        pass    \n",
    "    \n",
    "    try: \n",
    "        product_id = driver.find_elements(By.CLASS_NAME, \"c-table-value\")[1]\n",
    "        product_ids.append(product_id.text)\n",
    "    except IndexError:\n",
    "        pass\n",
    "    \n",
    "    try:\n",
    "        brand = driver.find_elements(By.CLASS_NAME, \"c-table-value\")[2]\n",
    "        brands.append(brand.text)\n",
    "    except IndexError:\n",
    "        pass\n",
    "    \n",
    "    try:\n",
    "        color = driver.find_elements(By.CLASS_NAME, \"c-table-value\")[3]\n",
    "        colors.append(color.text)\n",
    "    except IndexError:\n",
    "        pass\n",
    "    \n",
    "    try:\n",
    "        genre = driver.find_elements(By.CLASS_NAME, \"c-table-value\")[4]\n",
    "        genres.append(genre.text)\n",
    "    except IndexError:\n",
    "        pass\n",
    "        \n",
    "    try:    \n",
    "        composition = driver.find_elements(By.CLASS_NAME, \"c-table-value\")[5]\n",
    "        compositions.append(composition.text)    \n",
    "    except IndexError:\n",
    "        pass\n",
    "    \n",
    "    try:\n",
    "        \n",
    "        category = driver.find_elements(By.CLASS_NAME, \"c-table-value\")[6]\n",
    "        categories.append(category.text)\n",
    "    except IndexError:\n",
    "        pass\n",
    "    \n",
    "    try:\n",
    "        review = driver.find_elements(By.CLASS_NAME, \"c-toggler__content\")[1]    \n",
    "        reviews.append(review.text)   \n",
    "    except IndexError:\n",
    "        pass        \n",
    "        \n",
    "    sleep_time = random.randint(1, 5)\n",
    "    print(f\"Waiting {sleep_time} second.\" if sleep_time == 1 else f\"Waiting {sleep_time} seconds.\")\n",
    "    time.sleep(sleep_time)\n",
    "    driver.back()"
   ]
  },
  {
   "cell_type": "code",
   "execution_count": 133,
   "id": "6b7fad1d",
   "metadata": {},
   "outputs": [
    {
     "data": {
      "text/plain": [
       "(88, 88, 88)"
      ]
     },
     "execution_count": 133,
     "metadata": {},
     "output_type": "execute_result"
    }
   ],
   "source": [
    "len(prices),len(brands),len(titles)"
   ]
  },
  {
   "cell_type": "code",
   "execution_count": 127,
   "id": "9c77935d",
   "metadata": {},
   "outputs": [
    {
     "data": {
      "text/plain": [
       "'9,99 €'"
      ]
     },
     "execution_count": 127,
     "metadata": {},
     "output_type": "execute_result"
    }
   ],
   "source": [
    "prices[100]"
   ]
  },
  {
   "cell_type": "markdown",
   "id": "38abb816",
   "metadata": {},
   "source": [
    "Let's import the variables.\n",
    "I decided to import them as a csv.\n",
    "This document will then be used to create a dataset for a recommendation system.\n",
    "(please check the final project -> streamlit app : https://dorisbaillard-streamlit-app01-recom-2nfdeq.streamlit.app/)"
   ]
  },
  {
   "cell_type": "code",
   "execution_count": 151,
   "id": "ba92c9b0",
   "metadata": {},
   "outputs": [],
   "source": [
    "import csv\n",
    "\n",
    "with open(\"go_sport4.csv\", \"w\", encoding=\"utf-8\") as f:\n",
    "    writer = csv.writer(f)\n",
    "    for row in (urls, ariannes, titles, prices, sizes, descriptions, product_ids, brands, colors, genres, compositions, categories, reviews):\n",
    "        writer.writerow(row)"
   ]
  }
 ],
 "metadata": {
  "kernelspec": {
   "display_name": "Python 3 (ipykernel)",
   "language": "python",
   "name": "python3"
  },
  "language_info": {
   "codemirror_mode": {
    "name": "ipython",
    "version": 3
   },
   "file_extension": ".py",
   "mimetype": "text/x-python",
   "name": "python",
   "nbconvert_exporter": "python",
   "pygments_lexer": "ipython3",
   "version": "3.10.4"
  }
 },
 "nbformat": 4,
 "nbformat_minor": 5
}
